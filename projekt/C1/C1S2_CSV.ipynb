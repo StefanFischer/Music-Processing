{
 "cells": [
  {
   "cell_type": "markdown",
   "metadata": {},
   "source": [
    "<div>\n",
    "<a href=\"http://www.music-processing.de/\"><img style=\"float:left;\" src=\"../data/FMP_Teaser_Cover.png\" width=40% alt=\"FMP\"></a>\n",
    "<a href=\"https://www.audiolabs-erlangen.de\"><img src=\"../data/Logo_AudioLabs_Long.png\" width=59% style=\"float: right;\" alt=\"AudioLabs\"></a>\n",
    "</div>"
   ]
  },
  {
   "cell_type": "markdown",
   "metadata": {},
   "source": [
    "<div>\n",
    "<a href=\"../C1/C1.html\"><img src=\"../data/C1_nav.png\" width=\"100\"  style=\"float:right;\" alt=\"C1\"></a>\n",
    "<h1>Symbolic Format: CSV</h1>        \n",
    "</div>\n",
    "\n",
    "<br />\n",
    "\n",
    "<p>\n",
    "Following Section 1.2 of <a href=\"http://www.music-processing.de/\">[Müller, FMP, Springer 2015]</a>, we introduce in this notebook at a simple symbolic music representation encoded in some comma-separated values (CSV) format.\n",
    "</p> "
   ]
  },
  {
   "cell_type": "markdown",
   "metadata": {},
   "source": [
    "## CSV Format\n",
    "\n",
    "Recall that a [piano-roll representation](../C1/C1S1_SheetMusic.html) yields a visualization of note events, where each note is encoded by a start, duration, and pitch parameter. Further parameters could encode a note's velocity, articulation, or instrumentation. In the following, we introduce a simple format stored in a comma-separated values (CSV) file. Each note event corresponds to a line encoding a data record consisting of the four parameters `start`, `duration`, `pitch`, `velocity`, and `label`. The first four parameters are real numbers and encode the start (given in seconds or measures), duration (given in seconds or measures), pitch (encoded as MIDI note number), and velocity (in the range between 0.0 and 1.0) of a note event. The last parameter `label` is a string that my encode further information such as the instrument (e.g. violin, trumpet, flute), the voice (e.g. soprano, alto, tenor and bass), or some staff information (e.g. left/right hand for a piano score). In the following, we use the first five measures of Symphony No. 5 by Ludwig van Beethoven in a piano reduced version as a running example.\n",
    "\n",
    "<img src=\"../data/C1/FMP_C1_F01.png\" width=\"300px\" align=\"middle\" alt=\"C1\">\n",
    "\n",
    "A CSV file of a piano-roll representation of this score looks as follows:"
   ]
  },
  {
   "cell_type": "code",
   "execution_count": 1,
   "metadata": {},
   "outputs": [
    {
     "name": "stdout",
     "output_type": "stream",
     "text": [
      "\"Start\";\"Duration\";\"Pitch\";\"Velocity\";\"Label\"\n",
      "0.25;0.23;67.0;1.0;\"Right Hand\"\n",
      "0.25;0.23;55.0;1.0;\"Right Hand\"\n",
      "0.25;0.23;43.0;1.0;\"Left Hand\"\n",
      "0.5;0.23;67.0;1.0;\"Right Hand\"\n",
      "0.5;0.23;55.0;1.0;\"Right Hand\"\n",
      "0.5;0.23;43.0;1.0;\"Left Hand\"\n",
      "0.75;0.23;67.0;1.0;\"Right Hand\"\n",
      "0.75;0.23;55.0;1.0;\"Right Hand\"\n",
      "0.75;0.23;43.0;1.0;\"Left Hand\"\n",
      "1.0;0.97;63.0;1.0;\"Right Hand\"\n",
      "1.0;0.97;51.0;1.0;\"Right Hand\"\n",
      "1.0;0.97;39.0;1.0;\"Left Hand\"\n",
      "2.25;0.23;65.0;1.0;\"Right Hand\"\n",
      "2.25;0.23;53.0;1.0;\"Right Hand\"\n",
      "2.25;0.23;41.0;1.0;\"Left Hand\"\n",
      "2.5;0.23;65.0;1.0;\"Right Hand\"\n",
      "2.5;0.23;53.0;1.0;\"Right Hand\"\n",
      "2.5;0.23;41.0;1.0;\"Left Hand\"\n",
      "2.75;0.23;65.0;1.0;\"Right Hand\"\n",
      "2.75;0.23;53.0;1.0;\"Right Hand\"\n",
      "2.75;0.23;41.0;1.0;\"Left Hand\"\n",
      "3.0;1.97;62.0;1.0;\"Right Hand\"\n",
      "3.0;1.97;50.0;1.0;\"Left Hand\"\n",
      "3.0;1.97;38.0;1.0;\"Left Hand\"\n",
      "\n"
     ]
    }
   ],
   "source": [
    "import os\n",
    "import numpy as np\n",
    "from matplotlib import pyplot as plt\n",
    "from matplotlib import patches\n",
    "import pandas as pd\n",
    "import IPython.display as ipd\n",
    "\n",
    "%matplotlib inline\n",
    "\n",
    "fn = os.path.join('..', 'data', 'C1', 'FMP_C1_F01_Beethoven_FateMotive_Sibelius.csv')\n",
    "\n",
    "with open(fn, 'r', encoding='utf-8') as file:\n",
    "    csv_str = file.read()\n",
    "\n",
    "print(csv_str)"
   ]
  },
  {
   "cell_type": "markdown",
   "metadata": {},
   "source": [
    "## Python Library `pandas`\n",
    "\n",
    "The Python library [`pandas`](https://pandas.pydata.org/) provides easy-to-use data structures and data analysis tools. In particular, it can be used to easily read and modify CSV files. When reading a CSV file, the content is stored in a two-dimensional tabular data structure with labeled axes (rows and columns) called `DataFrame`. This data structure can be accessed using attributes, see the [documentation for `pandas.DataFrame`](http://pandas.pydata.org/pandas-docs/stable/reference/api/pandas.DataFrame.html). We apply `pandas` to our previous example and print the first four rows."
   ]
  },
  {
   "cell_type": "code",
   "execution_count": 2,
   "metadata": {},
   "outputs": [
    {
     "name": "stdout",
     "output_type": "stream",
     "text": [
      "   Start  Duration  Pitch  Velocity       Label\n",
      "0   0.25      0.23   67.0       1.0  Right Hand\n",
      "1   0.25      0.23   55.0       1.0  Right Hand\n",
      "2   0.25      0.23   43.0       1.0   Left Hand\n",
      "3   0.50      0.23   67.0       1.0  Right Hand\n",
      "4   0.50      0.23   55.0       1.0  Right Hand\n",
      "5   0.50      0.23   43.0       1.0   Left Hand\n"
     ]
    }
   ],
   "source": [
    "df = pd.read_csv(fn, sep=';')\n",
    "print(df.loc[0:5,:])"
   ]
  },
  {
   "cell_type": "markdown",
   "metadata": {},
   "source": [
    "The `pandas`-library allows for rendering a `DataFrame` as an HTML table as shown in the next example. "
   ]
  },
  {
   "cell_type": "code",
   "execution_count": 3,
   "metadata": {},
   "outputs": [
    {
     "data": {
      "text/html": [
       "<table border=\"1\" class=\"dataframe\">\n",
       "  <thead>\n",
       "    <tr style=\"text-align: right;\">\n",
       "      <th>Start</th>\n",
       "      <th>Duration</th>\n",
       "      <th>Pitch</th>\n",
       "      <th>Velocity</th>\n",
       "      <th>Label</th>\n",
       "    </tr>\n",
       "  </thead>\n",
       "  <tbody>\n",
       "    <tr>\n",
       "      <td>0.25</td>\n",
       "      <td>0.23</td>\n",
       "      <td>67.0</td>\n",
       "      <td>1.0</td>\n",
       "      <td>Right Hand</td>\n",
       "    </tr>\n",
       "    <tr>\n",
       "      <td>0.25</td>\n",
       "      <td>0.23</td>\n",
       "      <td>55.0</td>\n",
       "      <td>1.0</td>\n",
       "      <td>Right Hand</td>\n",
       "    </tr>\n",
       "    <tr>\n",
       "      <td>0.25</td>\n",
       "      <td>0.23</td>\n",
       "      <td>43.0</td>\n",
       "      <td>1.0</td>\n",
       "      <td>Left Hand</td>\n",
       "    </tr>\n",
       "    <tr>\n",
       "      <td>0.50</td>\n",
       "      <td>0.23</td>\n",
       "      <td>67.0</td>\n",
       "      <td>1.0</td>\n",
       "      <td>Right Hand</td>\n",
       "    </tr>\n",
       "    <tr>\n",
       "      <td>0.50</td>\n",
       "      <td>0.23</td>\n",
       "      <td>55.0</td>\n",
       "      <td>1.0</td>\n",
       "      <td>Right Hand</td>\n",
       "    </tr>\n",
       "    <tr>\n",
       "      <td>0.50</td>\n",
       "      <td>0.23</td>\n",
       "      <td>43.0</td>\n",
       "      <td>1.0</td>\n",
       "      <td>Left Hand</td>\n",
       "    </tr>\n",
       "  </tbody>\n",
       "</table>"
      ],
      "text/plain": [
       "<IPython.core.display.HTML object>"
      ]
     },
     "execution_count": 3,
     "metadata": {},
     "output_type": "execute_result"
    }
   ],
   "source": [
    "html = df.loc[0:5,:].to_html(index=False)\n",
    "ipd.HTML(html)"
   ]
  },
  {
   "cell_type": "markdown",
   "metadata": {},
   "source": [
    "## Piano-Roll Visualization\n",
    "\n",
    "The note events stored in the CSV file can be visualized using a piano-roll representation. The following functions illustrates how this may be done. Note that the color of a rectangle is used to indicated the different labels associated to note events. "
   ]
  },
  {
   "cell_type": "code",
   "execution_count": 4,
   "metadata": {},
   "outputs": [
    {
     "data": {
      "image/png": "[encoded data removed]",
      "text/plain": [
       "<Figure size 864x288 with 1 Axes>"
      ]
     },
     "metadata": {
      "needs_background": "light"
     },
     "output_type": "display_data"
    }
   ],
   "source": [
    "import sys\n",
    "sys.path.append('..')\n",
    "from LibFMP.B import color_argument_to_dict\n",
    "\n",
    "def csv_to_list(csv):\n",
    "    \"\"\"Convert a csv score file to a list of note events\n",
    "\n",
    "    Notebook: C1/C1S2_CSV.ipynb\n",
    "\n",
    "    Args:\n",
    "        csv: Either a path to a csv file or a data frame\n",
    "\n",
    "    Returns:\n",
    "        score: A list of note events where each note is specified as \n",
    "        [start, duration, pitch, velocity, label]\n",
    "    \"\"\"\n",
    "\n",
    "    if isinstance(csv, str):\n",
    "        df = read_csv(csv)\n",
    "    elif isinstance(csv, pd.DataFrame):\n",
    "        df = csv\n",
    "    else:\n",
    "        raise RuntimeError('csv must be a path to a csv file or pd.DataFrame')\n",
    "\n",
    "    score = []\n",
    "    for i, (start, duration, pitch, velocity, label) in df.iterrows():\n",
    "        score.append([start, duration, pitch, velocity, label])\n",
    "    return score\n",
    "\n",
    "def visualize_piano_roll(score, xlabel='Time (seconds)', ylabel='Pitch', colors='FMP_1', velocity_alpha=False,\n",
    "                         figsize=(12, 4), ax=None, dpi=72):\n",
    "    \"\"\"Plot a pianoroll visualization\n",
    "\n",
    "    Notebook: C1/C1S2_CSV.ipynb\n",
    "\n",
    "    Args:\n",
    "        score: List of note events\n",
    "        xlabel: Label for x axis\n",
    "        ylabel: Label for y axis\n",
    "        colors: Several options: 1. string of FMP_COLORMAPS, 2. string of matplotlib colormap, 3. list or np.ndarray of\n",
    "            matplotlib color specifications, 4. dict that assigns labels  to colors\n",
    "        velocity_alpha (bool): Use the velocity value for the alpha value of the corresponding rectangle\n",
    "        figsize: Width, height in inches\n",
    "        ax: The Axes instance to plot on\n",
    "        dpi: Dots per inch\n",
    "\n",
    "    Returns:\n",
    "        fig: The created matplotlib figure or None if ax was given.\n",
    "        ax: The used axes\n",
    "    \"\"\"\n",
    "    fig = None\n",
    "    if ax is None:\n",
    "        fig = plt.figure(figsize=figsize, dpi=dpi)\n",
    "        ax = plt.subplot(1, 1, 1)\n",
    "\n",
    "    labels_set = sorted(set([note[4] for note in score]))\n",
    "    colors = color_argument_to_dict(colors, labels_set)\n",
    "\n",
    "    pitch_min = min(note[2] for note in score)\n",
    "    pitch_max = max(note[2] for note in score)\n",
    "    time_min = min(note[0] for note in score)\n",
    "    time_max = max(note[0] + note[1] for note in score)\n",
    "\n",
    "    for start, duration, pitch, velocity, label in score:\n",
    "        rect = patches.Rectangle((start, pitch - 0.5), duration, 1, linewidth=1,\n",
    "                                 edgecolor='k', facecolor=colors[label], alpha=velocity)\n",
    "        ax.add_patch(rect)\n",
    "\n",
    "    ax.set_ylim([pitch_min - 1.5, pitch_max + 1.5])\n",
    "    ax.set_xlim([min(time_min, 0), time_max + 0.5])\n",
    "    ax.set_xlabel(xlabel)\n",
    "    ax.set_ylabel(ylabel)\n",
    "    ax.grid()\n",
    "    ax.set_axisbelow(True)\n",
    "    ax.legend([patches.Patch(linewidth=1, edgecolor='k', facecolor=colors[key]) for key in labels_set],\n",
    "              labels_set, loc='upper right', framealpha=1)\n",
    "\n",
    "    if fig is not None:\n",
    "        plt.tight_layout()\n",
    "\n",
    "    return fig, ax\n",
    "\n",
    "score = csv_to_list(df)\n",
    "visualize_piano_roll(score, colors=['red','blue'], figsize=(12, 4));"
   ]
  },
  {
   "cell_type": "markdown",
   "metadata": {},
   "source": [
    "## Piano-Roll Representation for Orchestral Version\n",
    "\n",
    "The next example shows a piano-roll representation for a full orchestral score of the first 21 measures of Beethoven's Fifth, see [the notebook on sheet music representations](../C1S1_SheetMusic.html). Note that note events that overlap in the time&ndash;pitch domain are painted over by the visualization function in a greedy fashion.\n",
    "\n",
    "<img src=\"../data/C1/FMP_C1_F10_Beethoven_Fifth-MM1-20_Sibelius-Orchestra.png\" width=\"700px\" align=\"left\" alt=\"C1\">\n",
    "<br clear=\"all\" />\n",
    "<audio src=\"../data/C1/FMP_C1_F10_Beethoven_Fifth-MM1-20_Sibelius-Orchestra-Fast.mp3\" type=\"audio/mpeg\" controls=\"controls\"></audio>"
   ]
  },
  {
   "cell_type": "code",
   "execution_count": 5,
   "metadata": {},
   "outputs": [
    {
     "data": {
      "image/png": "[encoded data removed]",
      "text/plain": [
       "<Figure size 864x576 with 1 Axes>"
      ]
     },
     "metadata": {
      "needs_background": "light"
     },
     "output_type": "display_data"
    }
   ],
   "source": [
    "fn = os.path.join('..', 'data', 'C1', 'FMP_C1_F10_Beethoven_Fifth-MM1-20_Sibelius-Orchestra.csv')\n",
    "\n",
    "df = pd.read_csv(fn, sep=';')\n",
    "score_list = csv_to_list(df)\n",
    "visualize_piano_roll(score_list, figsize=(12, 8), colors='gist_rainbow');"
   ]
  },
  {
   "cell_type": "markdown",
   "metadata": {},
   "source": [
    "## Piano Roll Representation for Fugue\n",
    "\n",
    "The next example shows a piano-roll representation of the beginning of the four-voice Fugue BWV 846 in C major by Johann Sebastian Bach. The four different voices are labeled with 'Soprano', 'Alto', 'Tenor', and 'Basso'.\n",
    "\n",
    "<img src=\"../data/C1/FMP_C1_F12_Bach_BWV846_SheetMusic.png\" width=\"700px\" align=\"left\" alt=\"C1\">\n",
    "<br clear=\"all\" />\n",
    "<audio src=\"../data/C1/FMP_C1_F12_Bach_BWV846.mp3\" type=\"audio/mpeg\" controls=\"controls\"></audio>"
   ]
  },
  {
   "cell_type": "code",
   "execution_count": 6,
   "metadata": {},
   "outputs": [
    {
     "data": {
      "image/png": "[encoded data removed]",
      "text/plain": [
       "<Figure size 864x288 with 1 Axes>"
      ]
     },
     "metadata": {
      "needs_background": "light"
     },
     "output_type": "display_data"
    }
   ],
   "source": [
    "fn = os.path.join('..', 'data', 'C1', 'FMP_C1_F12_Bach_BWV846_Sibelius-Tracks.csv')\n",
    "\n",
    "df = pd.read_csv(fn, sep=';')\n",
    "score_list = csv_to_list(df)\n",
    "visualize_piano_roll(score_list, figsize=(12, 4));"
   ]
  },
  {
   "cell_type": "markdown",
   "metadata": {},
   "source": [
    "## Further Notes\n",
    "\n",
    "The functions to convert a csv file to a list of note events as well as the pianoroll visualiztion function have been included into LibFMP. In the following code cell, we call those `LibFMP` functions:"
   ]
  },
  {
   "cell_type": "code",
   "execution_count": 7,
   "metadata": {},
   "outputs": [
    {
     "data": {
      "image/png": "[encoded data removed]",
      "text/plain": [
       "<Figure size 864x288 with 1 Axes>"
      ]
     },
     "metadata": {
      "needs_background": "light"
     },
     "output_type": "display_data"
    }
   ],
   "source": [
    "import sys\n",
    "sys.path.append('..')\n",
    "import LibFMP.C1\n",
    "\n",
    "fn = os.path.join('..', 'data', 'C1', 'FMP_C1_F01_Beethoven_FateMotive_Sibelius.csv')\n",
    "score = LibFMP.C1.csv_to_list(fn)\n",
    "LibFMP.C1.visualize_piano_roll(score, figsize=(12, 4));"
   ]
  },
  {
   "cell_type": "markdown",
   "metadata": {},
   "source": [
    "<div class=\"alert\" style=\"background-color:#F5F5F5; border-color:#C8C8C8\">\n",
    "<strong>Acknowledgment:</strong> This notebook was created by <a href=\"https://www.audiolabs-erlangen.de/fau/assistant/zalkow\">Frank Zalkow</a> and <a href=\"https://www.audiolabs-erlangen.de/fau/professor/mueller\">Meinard Müller</a>.\n",
    "</div>  "
   ]
  },
  {
   "cell_type": "markdown",
   "metadata": {},
   "source": [
    "<table style=\"border:none\">\n",
    "<tr style=\"border:none\">\n",
    "    <td style=\"min-width:50px; border:none\" bgcolor=\"white\"><a href=\"../C0/C0.html\"><img src=\"../data/C0_nav.png\" style=\"height:50px\" alt=\"C0\"></a></td>\n",
    "    <td style=\"min-width:50px; border:none\" bgcolor=\"white\"><a href=\"../C1/C1.html\"><img src=\"../data/C1_nav.png\" style=\"height:50px\" alt=\"C1\"></a></td>\n",
    "    <td style=\"min-width:50px; border:none\" bgcolor=\"white\"><a href=\"../C2/C2.html\"><img src=\"../data/C2_nav.png\" style=\"height:50px\" alt=\"C2\"></a></td>\n",
    "    <td style=\"min-width:50px; border:none\" bgcolor=\"white\"><a href=\"../C3/C3.html\"><img src=\"../data/C3_nav.png\" style=\"height:50px\" alt=\"C3\"></a></td>\n",
    "    <td style=\"min-width:50px; border:none\" bgcolor=\"white\"><a href=\"../C4/C4.html\"><img src=\"../data/C4_nav.png\" style=\"height:50px\" alt=\"C4\"></a></td>\n",
    "    <td style=\"min-width:50px; border:none\" bgcolor=\"white\"><a href=\"../C5/C5.html\"><img src=\"../data/C5_nav.png\" style=\"height:50px\" alt=\"C5\"></a></td>\n",
    "    <td style=\"min-width:50px; border:none\" bgcolor=\"white\"><a href=\"../C6/C6.html\"><img src=\"../data/C6_nav.png\" style=\"height:50px\" alt=\"C6\"></a></td>\n",
    "    <td style=\"min-width:50px; border:none\" bgcolor=\"white\"><a href=\"../C7/C7.html\"><img src=\"../data/C7_nav.png\" style=\"height:50px\" alt=\"C7\"></a></td>\n",
    "    <td style=\"min-width:50px; border:none\" bgcolor=\"white\"><a href=\"../C8/C8.html\"><img src=\"../data/C8_nav.png\" style=\"height:50px\" alt=\"C8\"></a></td>\n",
    "</tr>\n",
    "</table>"
   ]
  }
 ],
 "metadata": {
  "kernelspec": {
   "display_name": "Python 3",
   "language": "python",
   "name": "python3"
  },
  "language_info": {
   "codemirror_mode": {
    "name": "ipython",
    "version": 3
   },
   "file_extension": ".py",
   "mimetype": "text/x-python",
   "name": "python",
   "nbconvert_exporter": "python",
   "pygments_lexer": "ipython3",
   "version": "3.7.9"
  }
 },
 "nbformat": 4,
 "nbformat_minor": 1
}
