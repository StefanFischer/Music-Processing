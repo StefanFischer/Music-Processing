{
 "cells": [
  {
   "cell_type": "markdown",
   "metadata": {},
   "source": [
    "<div>\n",
    "<a href=\"http://www.music-processing.de/\"><img style=\"float:left;\" src=\"../data/FMP_Teaser_Cover.png\" width=40% alt=\"FMP\"></a>\n",
    "<a href=\"https://www.audiolabs-erlangen.de\"><img src=\"../data/Logo_AudioLabs_Long.png\" width=59% style=\"float: right;\" alt=\"AudioLabs\"></a>\n",
    "</div>"
   ]
  },
  {
   "cell_type": "markdown",
   "metadata": {},
   "source": [
    "<div>\n",
    "<a href=\"../B/B.html\"><img src=\"../data/B_nav.png\" width=\"100\"  style=\"float:right;\" alt=\"B\"></a>\n",
    "<h1>LibFMP</h1> \n",
    "</div>\n",
    "\n",
    "<br/>\n",
    "\n",
    "<p>\n",
    "This notebook gives a short introduction to the <code>LibFMP</code>, the Python package that accompanies the FMP notebooks. After a short introduction to Python modules and packages, we explain how to use the <code>LibFMP</code> and how to add functions to it.\n",
    "</p> "
   ]
  },
  {
   "cell_type": "markdown",
   "metadata": {},
   "source": [
    "## Python Modules\n",
    "\n",
    "A Python module is basically a file with an extension `.py` containing Python code. The content of a module can be accessed with the `import` statement. As an example, we consider the file `B_test_module.py` contained in the folder `LibFMP/B/`. When the `import` statement is executed, the interpreter searches for `B_test_module.py` in a list of directories which specifies the search paths for modules. The variable `sys.path` (which is part of the module `sys`) yields the list of directories. It is initialized from the environment variable `PYTHONPATH` (plus an installation-dependent default). The list contained in `sys.path` can be extended using the function `sys.path.append`. The following example illustrates these concepts:"
   ]
  },
  {
   "cell_type": "code",
   "execution_count": 1,
   "metadata": {},
   "outputs": [
    {
     "name": "stdout",
     "output_type": "stream",
     "text": [
      "['/home/swpffm/dev/FMP/notebook/B', '/home/swpffm/miniconda3/envs/FMP/lib/python37.zip', '/home/swpffm/miniconda3/envs/FMP/lib/python3.7', '/home/swpffm/miniconda3/envs/FMP/lib/python3.7/lib-dynload', '', '/home/swpffm/miniconda3/envs/FMP/lib/python3.7/site-packages', '/home/swpffm/miniconda3/envs/FMP/lib/python3.7/site-packages/IPython/extensions', '/home/swpffm/.ipython'] \n",
      "\n",
      "['/home/swpffm/dev/FMP/notebook/B', '/home/swpffm/miniconda3/envs/FMP/lib/python37.zip', '/home/swpffm/miniconda3/envs/FMP/lib/python3.7', '/home/swpffm/miniconda3/envs/FMP/lib/python3.7/lib-dynload', '', '/home/swpffm/miniconda3/envs/FMP/lib/python3.7/site-packages', '/home/swpffm/miniconda3/envs/FMP/lib/python3.7/site-packages/IPython/extensions', '/home/swpffm/.ipython', '..'] \n",
      "\n"
     ]
    }
   ],
   "source": [
    "import sys\n",
    "print(sys.path, '\\n')\n",
    "\n",
    "import os\n",
    "sys.path.append('..')\n",
    "print(sys.path, '\\n')"
   ]
  },
  {
   "cell_type": "markdown",
   "metadata": {},
   "source": [
    "Once the directory of the module is in the search path, we can use the `import` statement. Let us come back to our example `test_module.py`, which has the following content:\n",
    "\n",
    "<!--\n",
    "```\n",
    "string = 'This is a test function'\n",
    "a, b, c = 1, 2, 3\n",
    "\n",
    "def add(a, b=0, c=0):\n",
    "    d = a + b + c\n",
    "    print('Addition: ', a, ' + ', b, ' + ', c, ' = ', d)\n",
    "    return d\n",
    "```\n",
    "-->"
   ]
  },
  {
   "cell_type": "code",
   "execution_count": 2,
   "metadata": {},
   "outputs": [
    {
     "name": "stdout",
     "output_type": "stream",
     "text": [
      "\"\"\"\n",
      "Module: LibFMP.B.B_test_module\n",
      "Author: Meinard Mueller\n",
      "License: Creative Commons Attribution-NonCommercial-ShareAlike 4.0 International License\n",
      "\n",
      "This file is part of the FMP Notebooks (https://www.audiolabs-erlangen.de/FMP).\n",
      "\"\"\"\n",
      "\n",
      "string = 'This is a test function'\n",
      "a, b, c = 1, 2, 3\n",
      "\n",
      "\n",
      "def add(a, b=0, c=0):\n",
      "    \"\"\"Function to add three numbers\n",
      "\n",
      "    Notebook: B/B_LibFMP.ipynb\n",
      "\n",
      "    Args:\n",
      "        a: first number\n",
      "        b: second number (default: 0)\n",
      "        c: third number (default: 0)\n",
      "\n",
      "    Returns:\n",
      "        Sum of a, b and c\n",
      "    \"\"\"\n",
      "    d = a + b + c\n",
      "    print('Addition: ', a, ' + ', b, ' + ', c, ' = ', d)\n",
      "    return d\n",
      "\n"
     ]
    }
   ],
   "source": [
    "import os\n",
    "\n",
    "fn = os.path.join('..', 'LibFMP', 'B', 'B_test_module.py')\n",
    "with open(fn, 'r', encoding='utf-8') as stream:\n",
    "    content_text = stream.read()\n",
    "    \n",
    "print(content_text)"
   ]
  },
  {
   "cell_type": "markdown",
   "metadata": {},
   "source": [
    "The following options import the module `B_test_module` or some of its elements:"
   ]
  },
  {
   "cell_type": "code",
   "execution_count": 3,
   "metadata": {},
   "outputs": [
    {
     "name": "stdout",
     "output_type": "stream",
     "text": [
      "Addition:  1  +  2  +  3  =  6\n",
      "Addition:  4  +  5  +  0  =  9\n",
      "Addition:  6  +  0  +  0  =  6\n",
      "Addition:  1  +  2  +  3  =  6\n"
     ]
    }
   ],
   "source": [
    "import LibFMP.B.B_test_module\n",
    "result = LibFMP.B.B_test_module.add(LibFMP.B.B_test_module.a, \n",
    "                                    LibFMP.B.B_test_module.b, \n",
    "                                    LibFMP.B.B_test_module.c)\n",
    "\n",
    "from LibFMP.B.B_test_module import add\n",
    "result = add(4, 5)\n",
    "\n",
    "from LibFMP.B.B_test_module import add as s\n",
    "result = s(6)\n",
    "\n",
    "from LibFMP.B.B_test_module import *\n",
    "result = add(a, b, c)"
   ]
  },
  {
   "cell_type": "markdown",
   "metadata": {},
   "source": [
    "The file variable `test_module.__file__` determines the path where the module was found. Furthermore, when a `.py`-file is imported as a module, Python sets the variable `__name__` to the name of the module. Finally, the help-function shows the documentation of the specified module."
   ]
  },
  {
   "cell_type": "code",
   "execution_count": 4,
   "metadata": {},
   "outputs": [
    {
     "name": "stdout",
     "output_type": "stream",
     "text": [
      "Directory of module: ../LibFMP/B/B_test_module.py\n",
      "Name of module: LibFMP.B.B_test_module\n",
      "=======================================\n",
      "Help on module LibFMP.B.B_test_module in LibFMP.B:\n",
      "\n",
      "NAME\n",
      "    LibFMP.B.B_test_module\n",
      "\n",
      "DESCRIPTION\n",
      "    Module: LibFMP.B.B_test_module\n",
      "    Author: Meinard Mueller\n",
      "    License: Creative Commons Attribution-NonCommercial-ShareAlike 4.0 International License\n",
      "    \n",
      "    This file is part of the FMP Notebooks (https://www.audiolabs-erlangen.de/FMP).\n",
      "\n",
      "FUNCTIONS\n",
      "    add(a, b=0, c=0)\n",
      "        Function to add three numbers\n",
      "        \n",
      "        Notebook: B/B_LibFMP.ipynb\n",
      "        \n",
      "        Args:\n",
      "            a: first number\n",
      "            b: second number (default: 0)\n",
      "            c: third number (default: 0)\n",
      "        \n",
      "        Returns:\n",
      "            Sum of a, b and c\n",
      "\n",
      "DATA\n",
      "    a = 1\n",
      "    b = 2\n",
      "    c = 3\n",
      "    string = 'This is a test function'\n",
      "\n",
      "FILE\n",
      "    /home/swpffm/dev/FMP/notebook/LibFMP/B/B_test_module.py\n",
      "\n",
      "\n"
     ]
    }
   ],
   "source": [
    "print('Directory of module:', LibFMP.B.B_test_module.__file__)\n",
    "print('Name of module:', LibFMP.B.B_test_module.__name__)\n",
    "print('=======================================')\n",
    "help(LibFMP.B.B_test_module)"
   ]
  },
  {
   "cell_type": "markdown",
   "metadata": {},
   "source": [
    "Note that any `.py`-file that contains a module can be also be executed as a Python script (e.g., `python test_module.py`). In the case that a file is run as a script, the variable `__name__` is set to the string `'__main__'`. This allows for placing additional statements in the module that are executed only when being run as a script (and not when imported as a module). For example, one can place these elements in a  conditional (`if`) block as follows:\n",
    "```\n",
    "if (__name__ == '__main__'):\n",
    "    Statements only executed when run as a script\n",
    "```    "
   ]
  },
  {
   "cell_type": "markdown",
   "metadata": {},
   "source": [
    "## Python Packages\n",
    "\n",
    "A Python package is a namespace that consists of a directory, which in turn may contain subdirectories (subpackages) and files (modules). The naming convention follows the hierarchical file structure using **dot notation**. Opposed to normal directories, a package in Python typically contains a particular file called `__init__.py` (until Python 3.3, the existence of such a file was even mandatory). This file is automatically executed when the package (or a module in the package) is imported. For example, this allows for initializing package-specific data or for automatically importing specific modules from a package.\n",
    "\n",
    "Continuing our example above, the directory `B` can be regarded as a package containing an initialization file `__init__.py`. The following examples show how to import packages and modules:"
   ]
  },
  {
   "cell_type": "code",
   "execution_count": 5,
   "metadata": {},
   "outputs": [
    {
     "name": "stdout",
     "output_type": "stream",
     "text": [
      "Addition:  1  +  2  +  3  =  6\n",
      "Addition:  1  +  2  +  3  =  6\n"
     ]
    }
   ],
   "source": [
    "import sys\n",
    "import os\n",
    "sys.path.append('..')\n",
    "\n",
    "import LibFMP.B.B_test_module\n",
    "result = LibFMP.B.B_test_module.add(LibFMP.B.B_test_module.a, \n",
    "                                   LibFMP.B.B_test_module.b, \n",
    "                                   LibFMP.B.B_test_module.c)\n",
    "\n",
    "from LibFMP.B import B_test_module\n",
    "result = B_test_module.add(B_test_module.a, B_test_module.b, B_test_module.c)"
   ]
  },
  {
   "cell_type": "markdown",
   "metadata": {},
   "source": [
    "## The Package `LibFMP` \n",
    "\n",
    "In the FMP notebooks, the naming conventions and the code structure are carefully matched to the mathematical notation used in the textbook <a href=\"http://www.music-processing.de/\">[Müller, FMP, Springer 2015]</a> to establish a close relationship between theory and practice. Furthermore, the programming style is kept explicit and straightforward with a flat, functional hierarchy. Most code examples are directly specified in the code cells interleaved with text cells containing explanations. This approach leads to redundancies, where individual code fragments may occur several times in the FMP notebooks. In this sense, the FMP notebooks are not designed to serve as a toolbox per se. Nevertheless, we have assembled a Python package called `LibFMP`, which serves several purposes. \n",
    "\n",
    "* First, `LibFMP` contains some simple reference implementation for the most essential functionalities introduced in the FMP notebooks. \n",
    "* Second, the package allows for reducing some redundancies in the FMP notebook at places where implementation issues are not the focus. \n",
    "* Third, we hope that `LibFMP` provides some instructive examples on how to document and build up modules, packages, and libraries in Python."
   ]
  },
  {
   "cell_type": "markdown",
   "metadata": {},
   "source": [
    "The package `LibFMP` is organized along with the structure of the FMP notebooks. Containing subpackages called `B`, `C1`, `C2`, ..., `C8`, the file structure of `LibFMP` is as follows:\n",
    "\n",
    "```\n",
    "LibFMP\n",
    "├── __init__.py\n",
    "├── C1\n",
    "│   ├── __init__.py\n",
    "│   ├── ...\n",
    "⋮ \n",
    "└── C8\n",
    "    ├── __init__.py\n",
    "    ├── ...\n",
    "```\n",
    "\n",
    "\n",
    "The package `LibFMP` is located in the main directory of the FMP notebooks (which is the parent directory of the current notebook `B_LibFMP.ipynb`). Therefore, to access `LibFMP` from the current path, we need to add the parent directory (`'..'`) to Python's search path. In the following example, the package `LibFMP` is imported and its help page is displayed."
   ]
  },
  {
   "cell_type": "code",
   "execution_count": 6,
   "metadata": {},
   "outputs": [
    {
     "name": "stdout",
     "output_type": "stream",
     "text": [
      "Help on package LibFMP:\n",
      "\n",
      "NAME\n",
      "    LibFMP\n",
      "\n",
      "PACKAGE CONTENTS\n",
      "    B (package)\n",
      "    C1 (package)\n",
      "    C2 (package)\n",
      "    C3 (package)\n",
      "    C4 (package)\n",
      "    C5 (package)\n",
      "    C6 (package)\n",
      "    C7 (package)\n",
      "    C8 (package)\n",
      "\n",
      "FILE\n",
      "    /home/swpffm/dev/FMP/notebook/LibFMP/__init__.py\n",
      "\n",
      "\n"
     ]
    }
   ],
   "source": [
    "import sys\n",
    "sys.path.append('..')\n",
    "import LibFMP\n",
    "help(LibFMP)"
   ]
  },
  {
   "cell_type": "markdown",
   "metadata": {},
   "source": [
    "The `__init__.py`-file of `LibFMP` is empty. This means that no functionality is available at this stage. To import the modules contained in the subpackages, one needs to import the subpackages individually. The `__init__.py` files of the subpackages `B`, `C1`, `C2`, ..., `C8` are not empty; they contain a list of all functions that are considered essential for a user of the FMP notebooks and `LibFMP`. In the following example, the subpackage `C8` is imported, and the help page is displayed."
   ]
  },
  {
   "cell_type": "code",
   "execution_count": 7,
   "metadata": {},
   "outputs": [
    {
     "name": "stdout",
     "output_type": "stream",
     "text": [
      "Help on package LibFMP.C8 in LibFMP:\n",
      "\n",
      "NAME\n",
      "    LibFMP.C8\n",
      "\n",
      "PACKAGE CONTENTS\n",
      "    C8S1_HPS\n",
      "    C8S2_F0\n",
      "    C8S2_Salience\n",
      "    C8S3_NMF\n",
      "\n",
      "FILE\n",
      "    /home/swpffm/dev/FMP/notebook/LibFMP/C8/__init__.py\n",
      "\n",
      "\n"
     ]
    }
   ],
   "source": [
    "import sys\n",
    "sys.path.append('..')\n",
    "from LibFMP import C8\n",
    "help(C8)"
   ]
  },
  {
   "cell_type": "markdown",
   "metadata": {},
   "source": [
    "Next, we show the content of `__init__.py` of `C8`."
   ]
  },
  {
   "cell_type": "code",
   "execution_count": 8,
   "metadata": {},
   "outputs": [
    {
     "name": "stdout",
     "output_type": "stream",
     "text": [
      "\n",
      "from .C8S1_HPS import median_filter_horizontal, \\\n",
      "    median_filter_vertical, \\\n",
      "    convert_L_sec_to_frames, \\\n",
      "    convert_L_Hertz_to_bins, \\\n",
      "    make_integer_odd, \\\n",
      "    HPS, \\\n",
      "    generate_audio_tag_html_list, \\\n",
      "    HRPS, \\\n",
      "    experiment_HRPS_parameter\n",
      "\n",
      "from .C8S2_Salience import principal_argument, \\\n",
      "    compute_IF, \\\n",
      "    F_coef, \\\n",
      "    frequency_to_bin_index, \\\n",
      "    P_bin, \\\n",
      "    compute_Y_LF_bin, \\\n",
      "    P_bin_IF, \\\n",
      "    compute_salience_rep\n",
      "\n",
      "from .C8S2_F0 import hz_to_cents, \\\n",
      "    cents_to_hz, \\\n",
      "    sonify_trajectory_with_sinusoid, \\\n",
      "    visualize_salience_traj_constraints, \\\n",
      "    define_transition_matrix, \\\n",
      "    compute_trajectory_DP, \\\n",
      "    convert_ann_to_constraint_region, \\\n",
      "    compute_trajectory_CR, \\\n",
      "    compute_traj_from_audio, \\\n",
      "    convert_trajectory_to_mask_bin, \\\n",
      "    convert_trajectory_to_mask_cent, \\\n",
      "    separate_melody_accompaniment\n",
      "\n",
      "from .C8S3_NMF import NMF, \\\n",
      "    plot_NMF_factors, \\\n",
      "    pitch_from_annotation, \\\n",
      "    template_pitch, \\\n",
      "    init_NMF_template_pitch, \\\n",
      "    init_NMF_activation_score, \\\n",
      "    init_NMF_template_pitch_onset, \\\n",
      "    init_NMF_activation_score_onset\n",
      "\n"
     ]
    }
   ],
   "source": [
    "import os\n",
    "fn = os.path.join('..', 'LibFMP', 'C8', '__init__.py')\n",
    "with open(fn, 'r', encoding='utf-8') as stream:\n",
    "    content_text = stream.read() \n",
    "print(content_text)"
   ]
  },
  {
   "cell_type": "markdown",
   "metadata": {},
   "source": [
    "Note that using `__init__.py` allows a user to access the specified functions without the need to specify the filenames the functions are contained in. For example, the function `C8.C8S1_HPS.HPS` can be directly accessed via `C8.HPS`. Besides its easier access, the convention also allows users to easily rename the filename `C8S1_HPS` with a single update in the `__init__.py` without any further changes in the code."
   ]
  },
  {
   "cell_type": "markdown",
   "metadata": {},
   "source": [
    "## Documentation of Functions\n",
    "\n",
    "For documenting the functions contained in `LibFMP`, we follow standard Python style conventions as formulated in the [Google Python Style Guide](https://github.com/google/styleguide/blob/gh-pages/pyguide.md#38-comments-and-docstrings). Most of the `LibFMP`-functions are contained in some FMP notebook, where one finds a detailed explanation of the application, the underlying theory, and implementation issues. The FMP notebooks also provide illustrative examples, experiments with different parameter settings, and a discussion of results. In the `Docstring` of a `LibFMP`-function, we specify the FMP notebook where the function is explained and developed. Using the `help`-function, the following example shows the docstring of the function `LibFMP.C8.HPS`. In particular, the information `Notebook: C8/C8S1_HPS.ipynb` shows that this function is introduced in the [FMP notebook on harmonic&ndash;percussive separation](../C8/C8S1_HPS.html) (HPS) with the filename `C8/C8S1_HPS.ipynb`."
   ]
  },
  {
   "cell_type": "code",
   "execution_count": 9,
   "metadata": {},
   "outputs": [
    {
     "name": "stdout",
     "output_type": "stream",
     "text": [
      "Help on function HPS in module LibFMP.C8.C8S1_HPS:\n",
      "\n",
      "HPS(x, Fs, N, H, L_h, L_p, L_unit='physical', mask='binary', eps=0.001, detail=False)\n",
      "    Harmonic-percussive separation (HPS) algorithm\n",
      "    \n",
      "    Notebook: C8/C8S1_HPS.ipynb\n",
      "    \n",
      "    Args:\n",
      "        x: Input signal\n",
      "        Fs: Sampling rate of x\n",
      "        N: Frame length\n",
      "        H: Hopsize\n",
      "        L_h: Horizontal median filter length given in seconds or frames\n",
      "        L_p: Percussive median filter length given in Hertz or bins\n",
      "        L_unit: Adjusts unit, either 'pyhsical' or 'indices'\n",
      "        mask: Either 'binary' or 'soft'\n",
      "        eps: Parameter used in soft maskig\n",
      "        detail (bool): Returns detailed information\n",
      "    \n",
      "    Returns:\n",
      "        x_h: Harmonic signal\n",
      "        x_p: Percussive signal\n",
      "        dict: dictionary containing detailed information; returned if \"detail=True\"\n",
      "\n"
     ]
    }
   ],
   "source": [
    "help(C8.HPS) "
   ]
  },
  {
   "cell_type": "markdown",
   "metadata": {},
   "source": [
    "<div class=\"alert\" style=\"background-color:#F5F5F5; border-color:#C8C8C8\">\n",
    "<strong>Acknowledgment:</strong> This notebook was created by <a href=\"https://www.audiolabs-erlangen.de/fau/professor/mueller\">Meinard Müller</a> and <a href=\"https://www.audiolabs-erlangen.de/fau/assistant/zalkow\">Frank Zalkow</a>.\n",
    "</div>"
   ]
  },
  {
   "cell_type": "markdown",
   "metadata": {},
   "source": [
    "<table style=\"border:none\">\n",
    "<tr style=\"border:none\">\n",
    "    <td style=\"min-width:50px; border:none\" bgcolor=\"white\"><a href=\"../C0/C0.html\"><img src=\"../data/C0_nav.png\" style=\"height:50px\" alt=\"C0\"></a></td>\n",
    "    <td style=\"min-width:50px; border:none\" bgcolor=\"white\"><a href=\"../C1/C1.html\"><img src=\"../data/C1_nav.png\" style=\"height:50px\" alt=\"C1\"></a></td>\n",
    "    <td style=\"min-width:50px; border:none\" bgcolor=\"white\"><a href=\"../C2/C2.html\"><img src=\"../data/C2_nav.png\" style=\"height:50px\" alt=\"C2\"></a></td>\n",
    "    <td style=\"min-width:50px; border:none\" bgcolor=\"white\"><a href=\"../C3/C3.html\"><img src=\"../data/C3_nav.png\" style=\"height:50px\" alt=\"C3\"></a></td>\n",
    "    <td style=\"min-width:50px; border:none\" bgcolor=\"white\"><a href=\"../C4/C4.html\"><img src=\"../data/C4_nav.png\" style=\"height:50px\" alt=\"C4\"></a></td>\n",
    "    <td style=\"min-width:50px; border:none\" bgcolor=\"white\"><a href=\"../C5/C5.html\"><img src=\"../data/C5_nav.png\" style=\"height:50px\" alt=\"C5\"></a></td>\n",
    "    <td style=\"min-width:50px; border:none\" bgcolor=\"white\"><a href=\"../C6/C6.html\"><img src=\"../data/C6_nav.png\" style=\"height:50px\" alt=\"C6\"></a></td>\n",
    "    <td style=\"min-width:50px; border:none\" bgcolor=\"white\"><a href=\"../C7/C7.html\"><img src=\"../data/C7_nav.png\" style=\"height:50px\" alt=\"C7\"></a></td>\n",
    "    <td style=\"min-width:50px; border:none\" bgcolor=\"white\"><a href=\"../C8/C8.html\"><img src=\"../data/C8_nav.png\" style=\"height:50px\" alt=\"C8\"></a></td>\n",
    "</tr>\n",
    "</table>"
   ]
  }
 ],
 "metadata": {
  "kernelspec": {
   "display_name": "Python 3",
   "language": "python",
   "name": "python3"
  },
  "language_info": {
   "codemirror_mode": {
    "name": "ipython",
    "version": 3
   },
   "file_extension": ".py",
   "mimetype": "text/x-python",
   "name": "python",
   "nbconvert_exporter": "python",
   "pygments_lexer": "ipython3",
   "version": "3.7.7"
  }
 },
 "nbformat": 4,
 "nbformat_minor": 1
}
