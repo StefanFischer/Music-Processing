{
 "cells": [
  {
   "cell_type": "markdown",
   "metadata": {},
   "source": [
    "<div>\n",
    "<a href=\"http://www.music-processing.de/\"><img style=\"float:left;\" src=\"../data/FMP_Teaser_Cover.png\" width=40% alt=\"FMP\"></a>\n",
    "<a href=\"https://www.audiolabs-erlangen.de\"><img src=\"../data/Logo_AudioLabs_Long.png\" width=59% style=\"float: right;\" alt=\"AudioLabs\"></a>\n",
    "</div>"
   ]
  },
  {
   "cell_type": "markdown",
   "metadata": {},
   "source": [
    "<div>\n",
    "<a href=\"../B/B.html\"><img src=\"../data/B_nav.png\" width=\"100\"  style=\"float:right;\" alt=\"B\"></a>\n",
    "<h1>Annotation Visualization</h1> \n",
    "</div>\n",
    "\n",
    "<br/>\n",
    "\n",
    "<p>\n",
    "In this notebook, we introduce some <code>LibFMP</code>-functions that can be used for visualizing various kinds of annotations as encountered in music processing. In particular, we consider <strong>single-value annotations</strong> and <strong>segment annotations</strong> that consist of pairs of values.\n",
    "</p> "
   ]
  },
  {
   "cell_type": "markdown",
   "metadata": {},
   "source": [
    "## Conventions and Formats\n",
    "\n",
    "In the FMP notebooks, we encounter various types of annotations that can be expressed as list of **instances**. Typically, an instance consists of one or several **numerical values** (e.g., time positions, durations, frequency values, pitches, and so on) and a **label** given as text string. In this notebook, we consider **single-value annotations** (one numerical value and a label) and **segment annotations** (two numerical values and a label). For more complex examples, we refer to [FMP notebook on symbolic music formats](../C1/C1S2_CSV.html). To write and read annotations, we use a simple file format based on on **comma-separated values** (CSV). Each instance corresponds to a **row**, and the elements (i.e., numerical values and label) of each row are separated by a **semicolon** (`;`) rather than a comma. Furthermore, in the first row, we include a header line that specifies the meaning of the columns (i.e., the elements).\n",
    "\n",
    "To read, write, and modify CSV files, we often use the Python library [`pandas`](https://pandas.pydata.org/), which provides easy-to-use data structures and data analysis tools. Using the pandas framework, the content of a CSV file is stored in a two-dimensional tabular data structure with labeled axes (rows and columns) called `DataFrame`. This data structure can be accessed using attributes, see the [documentation for `pandas.DataFrame`](http://pandas.pydata.org/pandas-docs/stable/reference/api/pandas.DataFrame.html). For more details, we refer to the [FMP notebook on the CSV format](../C1/C1S2_CSV.html) and the functions `LibFMP.B.read_csv` and `LibFMP.B.write_csv`. In the following, we look at some simple examples that illustrate our conventions. "
   ]
  },
  {
   "cell_type": "markdown",
   "metadata": {},
   "source": [
    "## Single-Value Annotations\n",
    "\n",
    "We start with an annotation format, where each instance consists of a single **numerical value**. Such a value  may refer to a time position (specified in seconds or frame indices) or to a frequency value (specified in Hertz or frequency bin indices). Furthermore, the semantics of this numerical value is further specified by a **label**, which consists of a text string. We encounter a typical example for such an annotation type in the context of [tempo and beat tracking](../C6/C6.html), where the values are time positions (given in seconds) and the labels specify the musical meaning of the time position (e.g., indicating a measure, quarter note, or eighth note position). In the following code cell, we generate a toy example of such an annotation, which serves as our running example. The data structure consists of a list of tuples, each tuple consisting of a value and label. We also show how the data structure can be converted into a `DataFrame` (`df`) and `csv` file."
   ]
  },
  {
   "cell_type": "code",
   "execution_count": 1,
   "metadata": {},
   "outputs": [
    {
     "name": "stdout",
     "output_type": "stream",
     "text": [
      "=== Dummy annotation ===\n",
      "[(0.0, 'measure'), (0.0, 'quarter'), (0.0, 'eighth'), (0.25, 'eighth'), (0.5, 'quarter'), (0.5, 'eighth'), (0.75, 'eighth'), (1.0, 'measure'), (1.0, 'quarter'), (1.0, 'eighth'), (1.25, 'eighth'), (1.5, 'quarter'), (1.5, 'eighth'), (1.75, 'eighth'), (2.0, 'measure'), (2.0, 'quarter'), (2.0, 'eighth'), (2.25, 'eighth')]\n",
      "\n",
      "=== Dummy annotation in CSV format ===\n",
      "\"position\";\"label\"\n",
      "0.0;\"measure\"\n",
      "0.0;\"quarter\"\n",
      "0.0;\"eighth\"\n",
      "0.25;\"eighth\"\n",
      "0.5;\"quarter\"\n",
      "0.5;\"eighth\"\n",
      "0.75;\"eighth\"\n",
      "1.0;\"measure\"\n",
      "1.0;\"quarter\"\n",
      "1.0;\"eighth\"\n",
      "1.25;\"eighth\"\n",
      "1.5;\"quarter\"\n",
      "1.5;\"eighth\"\n",
      "1.75;\"eighth\"\n",
      "2.0;\"measure\"\n",
      "2.0;\"quarter\"\n",
      "2.0;\"eighth\"\n",
      "2.25;\"eighth\"\n",
      "\n",
      "=== Dummy annotation stored as DataFrame and rendered as HTML ===\n"
     ]
    },
    {
     "data": {
      "text/html": [
       "<table border=\"1\" class=\"dataframe\">\n",
       "  <thead>\n",
       "    <tr style=\"text-align: right;\">\n",
       "      <th></th>\n",
       "      <th>position</th>\n",
       "      <th>label</th>\n",
       "    </tr>\n",
       "  </thead>\n",
       "  <tbody>\n",
       "    <tr>\n",
       "      <th>0</th>\n",
       "      <td>0.00</td>\n",
       "      <td>measure</td>\n",
       "    </tr>\n",
       "    <tr>\n",
       "      <th>1</th>\n",
       "      <td>0.00</td>\n",
       "      <td>quarter</td>\n",
       "    </tr>\n",
       "    <tr>\n",
       "      <th>2</th>\n",
       "      <td>0.00</td>\n",
       "      <td>eighth</td>\n",
       "    </tr>\n",
       "    <tr>\n",
       "      <th>3</th>\n",
       "      <td>0.25</td>\n",
       "      <td>eighth</td>\n",
       "    </tr>\n",
       "    <tr>\n",
       "      <th>4</th>\n",
       "      <td>0.50</td>\n",
       "      <td>quarter</td>\n",
       "    </tr>\n",
       "    <tr>\n",
       "      <th>5</th>\n",
       "      <td>0.50</td>\n",
       "      <td>eighth</td>\n",
       "    </tr>\n",
       "    <tr>\n",
       "      <th>6</th>\n",
       "      <td>0.75</td>\n",
       "      <td>eighth</td>\n",
       "    </tr>\n",
       "    <tr>\n",
       "      <th>7</th>\n",
       "      <td>1.00</td>\n",
       "      <td>measure</td>\n",
       "    </tr>\n",
       "    <tr>\n",
       "      <th>8</th>\n",
       "      <td>1.00</td>\n",
       "      <td>quarter</td>\n",
       "    </tr>\n",
       "    <tr>\n",
       "      <th>9</th>\n",
       "      <td>1.00</td>\n",
       "      <td>eighth</td>\n",
       "    </tr>\n",
       "    <tr>\n",
       "      <th>10</th>\n",
       "      <td>1.25</td>\n",
       "      <td>eighth</td>\n",
       "    </tr>\n",
       "    <tr>\n",
       "      <th>11</th>\n",
       "      <td>1.50</td>\n",
       "      <td>quarter</td>\n",
       "    </tr>\n",
       "    <tr>\n",
       "      <th>12</th>\n",
       "      <td>1.50</td>\n",
       "      <td>eighth</td>\n",
       "    </tr>\n",
       "    <tr>\n",
       "      <th>13</th>\n",
       "      <td>1.75</td>\n",
       "      <td>eighth</td>\n",
       "    </tr>\n",
       "    <tr>\n",
       "      <th>14</th>\n",
       "      <td>2.00</td>\n",
       "      <td>measure</td>\n",
       "    </tr>\n",
       "    <tr>\n",
       "      <th>15</th>\n",
       "      <td>2.00</td>\n",
       "      <td>quarter</td>\n",
       "    </tr>\n",
       "    <tr>\n",
       "      <th>16</th>\n",
       "      <td>2.00</td>\n",
       "      <td>eighth</td>\n",
       "    </tr>\n",
       "    <tr>\n",
       "      <th>17</th>\n",
       "      <td>2.25</td>\n",
       "      <td>eighth</td>\n",
       "    </tr>\n",
       "  </tbody>\n",
       "</table>"
      ],
      "text/plain": [
       "<IPython.core.display.HTML object>"
      ]
     },
     "metadata": {},
     "output_type": "display_data"
    }
   ],
   "source": [
    "import os\n",
    "import sys\n",
    "import numpy as np\n",
    "import pandas as pd\n",
    "from matplotlib import pyplot as plt\n",
    "import IPython.display as ipd\n",
    "sys.path.append('..')\n",
    "import LibFMP.B\n",
    "\n",
    "%matplotlib inline\n",
    "\n",
    "measures = np.arange(0, 2.5, 1.0)\n",
    "quarters = np.arange(0, 2.5, 0.5)\n",
    "eighths = np.arange(0, 2.5, 0.25)\n",
    "\n",
    "# Generate dummy annotations\n",
    "ann = sorted([(n, 'measure') for n in measures] +\n",
    "             [(n, 'quarter') for n in quarters] +\n",
    "             [(n, 'eighth') for n in eighths], key=lambda x: x[0])\n",
    "print('=== Dummy annotation ===')\n",
    "print(ann)\n",
    "\n",
    "# Convert to DataFrame and CSV format (as used for the FMP notebooks)\n",
    "ann_df = pd.DataFrame(ann, columns=['position', 'label'])\n",
    "ann_csv = ann_df.to_csv(sep=';', index=False, quoting=2)\n",
    "print('\\n=== Dummy annotation in CSV format ===')\n",
    "print(ann_csv)\n",
    "print('=== Dummy annotation stored as DataFrame and rendered as HTML ===')\n",
    "ipd.display(ipd.HTML(ann_df.to_html()))\n",
    "\n",
    "# Store and load annotation file \n",
    "#fn_out = os.path.join('..', 'output', 'B', 'FMP_annotation_position_dummy.csv')\n",
    "#ann_df.to_csv(fn_out, sep=';', index=False, quoting=2)\n",
    "#ann_df = pd.read_csv(fn_out, sep=';')\n",
    "#ann = [(position, label) for i, (position, label) in df.iterrows()]"
   ]
  },
  {
   "cell_type": "markdown",
   "metadata": {},
   "source": [
    "The function `LibFMP.B.plot_annotation_line` allows for plotting single-value annotations. In the following code cell, we visualize the annotations within a single plot, where each label type is assigned to an individual plotting style."
   ]
  },
  {
   "cell_type": "code",
   "execution_count": 2,
   "metadata": {},
   "outputs": [
    {
     "data": {
      "image/png": "[encoded data removed]",
      "text/plain": [
       "<Figure size 432x72 with 1 Axes>"
      ]
     },
     "metadata": {
      "needs_background": "light"
     },
     "output_type": "display_data"
    }
   ],
   "source": [
    "label_keys = {'measure': {'linewidth': 6, 'color': 'k'},\n",
    "              'quarter': {'linewidth': 3, 'color': 'b'},\n",
    "              'eighth': {'linewidth': 1, 'color': 'r'}}\n",
    "        \n",
    "fig, ax = LibFMP.B.plot_annotation_line(ann, label_keys=label_keys)\n",
    "ax.set_xlim([-1,3]);"
   ]
  },
  {
   "cell_type": "markdown",
   "metadata": {},
   "source": [
    "Next, we visualize the annotations horizontally aligned to a matrix. This mimics the situation, where the horizontal axis of the matrix has the semantics expressed by the annotations. "
   ]
  },
  {
   "cell_type": "code",
   "execution_count": 3,
   "metadata": {},
   "outputs": [
    {
     "data": {
      "image/png": "[encoded data removed]",
      "text/plain": [
       "<Figure size 432x216 with 2 Axes>"
      ]
     },
     "metadata": {
      "needs_background": "light"
     },
     "output_type": "display_data"
    }
   ],
   "source": [
    "matrix = np.random.random((16, 16))\n",
    "\n",
    "fig, ax = plt.subplots(2, 1, sharex=True, \n",
    "                       gridspec_kw={'height_ratios': [4, 1]}, figsize=(6, 3))\n",
    "\n",
    "ax[0].imshow(matrix, cmap='gray_r', aspect='auto', extent=[-1, 3, 0, 1], alpha=0.5)\n",
    "LibFMP.B.plot_annotation_line(ann, ax=ax[1], label_keys=label_keys, time_min=-1, time_max=3)\n",
    "\n",
    "plt.tight_layout()"
   ]
  },
  {
   "cell_type": "markdown",
   "metadata": {},
   "source": [
    "Similarly, the annotations can be visualized vertically aligned to the matrix. "
   ]
  },
  {
   "cell_type": "code",
   "execution_count": 4,
   "metadata": {},
   "outputs": [
    {
     "data": {
      "image/png": "[encoded data removed]",
      "text/plain": [
       "<Figure size 432x216 with 2 Axes>"
      ]
     },
     "metadata": {
      "needs_background": "light"
     },
     "output_type": "display_data"
    }
   ],
   "source": [
    "fig, ax = plt.subplots(1, 2, sharey=True, \n",
    "                       gridspec_kw={'width_ratios': [1, 10]}, figsize=(6, 3))\n",
    "\n",
    "ax[1].imshow(matrix, cmap='gray_r', aspect='auto', extent=[0, 1, -1, 3], alpha=0.5)\n",
    "LibFMP.B.plot_annotation_line(ann, ax=ax[0], label_keys=label_keys, \n",
    "                              direction='vertical', time_min=-1, time_max=3)\n",
    "\n",
    "plt.tight_layout()"
   ]
  },
  {
   "cell_type": "markdown",
   "metadata": {},
   "source": [
    "Similar to `LibFMP.B.plot_annotation_line`, there also is the function `LibFMP.B.plot_annotation_line_overlay`, which can be used to overlay a matrix with the annotations horizontally as well as vertically."
   ]
  },
  {
   "cell_type": "code",
   "execution_count": 5,
   "metadata": {},
   "outputs": [
    {
     "data": {
      "image/png": "[encoded data removed]",
      "text/plain": [
       "<Figure size 576x216 with 2 Axes>"
      ]
     },
     "metadata": {
      "needs_background": "light"
     },
     "output_type": "display_data"
    }
   ],
   "source": [
    "fig, ax = plt.subplots(1, 2, gridspec_kw={'width_ratios': [3, 2]}, figsize=(8, 3))\n",
    "\n",
    "ax[0].imshow(matrix, cmap='gray_r', aspect='auto', extent=[-1, 3, 0, 1], alpha=0.5)\n",
    "LibFMP.B.plot_annotation_line_overlay(ann, ax=ax[0], label_keys=label_keys, time_min=-1, time_max=3)\n",
    "\n",
    "ax[1].imshow(matrix, cmap='gray_r', aspect='auto', extent=[0, 1, -1, 3], alpha=0.5)\n",
    "LibFMP.B.plot_annotation_line_overlay(ann, ax=ax[1], direction='vertical',\n",
    "                              label_keys=label_keys, time_min=-1, time_max=3)\n",
    "plt.tight_layout()"
   ]
  },
  {
   "cell_type": "markdown",
   "metadata": {},
   "source": [
    "The function `LibFMP.B.plot_annotation_multiline` allows for plotting single-value annotations, where each label type is not only assigned to an individual plotting style, but also to a spatially separate row (or column)."
   ]
  },
  {
   "cell_type": "code",
   "execution_count": 6,
   "metadata": {},
   "outputs": [
    {
     "data": {
      "image/png": "[encoded data removed]",
      "text/plain": [
       "<Figure size 432x108 with 1 Axes>"
      ]
     },
     "metadata": {
      "needs_background": "light"
     },
     "output_type": "display_data"
    }
   ],
   "source": [
    "fig, ax = LibFMP.B.plot_annotation_multiline(ann, label_keys=label_keys, \n",
    "                                   sort_labels=['measure', 'quarter', 'eighth'])\n",
    "ax.set_xlim([-1,3]);"
   ]
  },
  {
   "cell_type": "markdown",
   "metadata": {},
   "source": [
    "The function `LibFMP.B.plot_annotation_multiline` can be horizontally or vertically aligned to a given matrix, as demonstrated in the next code cell. In this example, we also show how two plots may be placed next to each other using the function [`LibFMP.B.FloatingBox`](../B/B_PythonVisualization.html)."
   ]
  },
  {
   "cell_type": "code",
   "execution_count": 7,
   "metadata": {},
   "outputs": [
    {
     "data": {
      "text/html": [
       "\n",
       "        <style>\n",
       "        .floating-box-fmp-1289820c-6531-4242-9dd5-76d289e5f68e {\n",
       "        display: inline-block;\n",
       "        margin: 10px;\n",
       "        vertical-align: middle;\n",
       "        }\n",
       "        </style>\n",
       "        <div class=\"floating-box-fmp-1289820c-6531-4242-9dd5-76d289e5f68e\"><img src=\"data:image/png;base64,iVBORw0KGgoAAAANSUhEUgAAASAAAADYCAYAAABLNT5AAAAABHNCSVQICAgIfAhkiAAAAAlwSFlzAAALEgAACxIB0t1+/AAAADh0RVh0U29mdHdhcmUAbWF0cGxvdGxpYiB2ZXJzaW9uMy4xLjMsIGh0dHA6Ly9tYXRwbG90bGliLm9yZy+AADFEAAAUe0lEQVR4nO3de7BdZXnH8e+vuTQhSRMhQBGSHIYQSibTJCRFqAZSRMA4oBKCQLFeGPmjCljRGVqtok6pVkcHpkINmkEZiqCIpgqDREAEjeTGJZCkzZAEjmGSmlsTAglJnv6xV3BzODln733evd+1z/l9Zs5kX971rGclh4d1e5+liMDMLIc/yZ2AmQ1cLkBmlo0LkJll4wJkZtm4AJlZNi5AZpaNC5CZZeMCZGbZuACZWTYuQGaWTekLkKQFkjZLWnmI7yXpJklrJT0t6ZRW52hmjSl9AQJuA87r4ft3AycWP1cCt7QgJzNLoPQFKCIeBbb2MOS9wPejYjEwRtIxrcnOzPqi9AWoBscCL1a97yw+M7OSG5w7gQTUzWfd9hiRdCWVwzSGDx8+o6OjI1kShx12WLJYAPv27Usab9CgQUnjHThwIGm81LZu7WmnuX6p//5GjhyZNN6WLVuSxqt3ezs7O3cfOHBgRL3r6Q8FqBMYV/X+OGBjdwMjYj4wH2Dy5Mlx++23J0tixowZyWJB+l+o0aNHJ423e/fupPFSu+OOO5LGGzVqVNJ4s2fPThpvwYIFSePV+/ty7bXXbm9kPf3hEGwh8HfF1bDTgB0R8VLupMysd6XfA5J0JzAbGCupE/gCMAQgIv4DuA+YA6wFdgMfyZOpmdWr9AUoIi7t5fsAPt6idMwsof5wCGZmbar0e0DNMnjwYI444ohk8RYtWpQsFsCkSZOSxluxYkXSeKeckvaG8wcffDBpvHPPPTdpvKOOOippvGHDhiWNN3ny5KTxRoyo74LW8OHDG1qP94DMLBsXIDPLxgXIzLJxATKzbFyAzCybAXsVbOjQoYwbN673gTV6/PHHk8UCePnll5PGmzVrVtJ4hx9+eNJ427ZtSxov5RVOgM7OzqTxpO6mMDZuw4YNSeOdcMIJdY1vdG6g94DMLBsXIDPLxgXIzLJxATKzbEpfgCSdJ2lN0XT+um6+Hy/pYUkriqb0c3LkaWb1K3UBkjQI+BaVxvOTgUsldZ308jng7oiYDlwC3NzaLM2sUWW/DH8qsDYingeQ9AMqTeifqxoTwJ8Vr0dziG6IXW3atImbbropWaKDB6f9q7z44ouTxtuxY0fSeA899FDSeKknt956661J45111llJ473yyitJ402ZMiVpvOOOO66u8Y1ORi17Aequ4fzbuoy5HviFpKuAEcDZrUnNzPqq1Idg1NZw/lLgtog4jkpnxNsldbtdkq6UtFTS0tQ3+plZ/cpegGppOH8FcDdARPwWGAaM7S5YRMyPiJkRMbPefidmll7ZC9AS4ERJx0saSuUk88IuY14A3gkg6WQqBeh/W5qlmTWk1AUoIvYBnwAeAFZRudr1rKQvSbqgGHYt8DFJTwF3Ah8u+kSbWclpoP63OmPGjFi8eHGyeDfccEOyWAAnn3xy0ng7d+5MGi91fnv27EkaL/WDE1evXp003tve1vVaSt/UO3m0N/VOlp08efLGjRs31v1E4lLvAZlZ/+YCZGbZuACZWTYuQGaWjQuQmWXjAmRm2ZR9LljT7Nu3jy1btiSLd8011ySLBbBr166k8datW5c0XurLyM8880zSeClvsQAYO7bbm+sbtmbNmqTxJk6cmDRevU+q3b59e0Pr8R6QmWXjAmRm2bgAmVk2LkBmlo0LkJllU/qrYJLOA24EBgHfiYivdDPmYiqdEQN4KiIu6y3unj17WLt2bbI8Uz8p9P77708ab968eUnjLVq0KGm81FeFrrrqqqTxHnvssaTxdu/enTTea6+9ljTe+973vrrGN/r7X+oCVNWU/l1UmpMtkbQwIp6rGnMi8I/A2yNim6Sj8mRrZvUq+yHY603pI2IvcLApfbWPAd+KiG0AEbG5xTmaWYPKXoC6a0rftefIJGCSpMclLS4O2cysDZT6EIzamtIPBk4EZlPpGf1rSVMi4k23Zkq6ErgS4Oijj06bqZnVrex7QLU0pe8EfhoRr0XEOmANlYL0JtVN6ceMGdOUhM2sdmUvQLU0pf8J8DcAksZSOSR7vqVZmllDSn0IFhH7JB1sSj8IWHCwKT2wNCIWFt+dI+k5YD/wmYjodZbp3r17efHFF3sbVrNt27YliwUwa9aspPFGjhyZNN4ZZ5yRNN7KlSuTxnvkkUeSxvvNb36TNN65556bNN6CBQuSxrv88svrGt/obQClLkAAEXEfcF+Xzz5f9TqATxU/ZtZGyn4IZmb9mAuQmWXjAmRm2bgAmVk2pT8J3SwHDhxIOiHw9NNPTxYL0k/2TH0V54gjjkgaL/VkyvHjxyeNl3ryaOoWr3Pnzk0a7/e//31d4/fu3dvQerwHZGbZuACZWTYuQGaWjQuQmWXjAmRm2bgAmVk2pb8MX0tP6GLcRcAPgb+KiKW9xX3ttdfYuLFrZ4/GNfpkyEOZOnVq0nidnZ1J451yyilJ46W+LD106NCk8e65556k8aZNm5Y03vr165PGq/e2g3379jW0nlLvAVX1hH43MBm4VNLkbsaNAq4GftfaDM2sL0pdgKitJzTAl4F/A15tZXJm1jdlL0C99oSWNB0YFxE/a2ViZtZ3ZT8H1GNPaEl/AnwT+HBNwap6Qo8ePTpBembWF2XfA+qtJ/QoYArwiKT1wGnAQkkzuwtW3RN6xIgRTUrZzGpV9gLUY0/oiNgREWMjoiMiOoDFwAW1XAUzs/xKfQhWY0/ohgwbNoxJkyalSpUJEyYkiwUkvUWgGZYtW5Y0Xr2zr3uT+jaGK664Imm8AwcOlDrescd2ffxezxq97aHUBQh67wnd5fPZrcjJzNIo+yGYmfVjLkBmlo0LkJll4wJkZtmU/iR0s0RE0isHo0aNShYL4NVX084qectb3pI03oYNG5LGGzZsWNJ4qZ8su2nTpqTxtmzp9eG9dUnd81vq7h7gQ9u6dWtD6/EekJll4wJkZtm4AJlZNi5AZpaNC5CZZeMCZGbZDNjL8Pv372fnzp3J4j3//PPJYgFMmTIlabwhQ4YkjddoD+BDufHGG5PGW758edJ4qf/+du3alTReRPQ+qA719qxutL1N6feAJJ0naY2ktZKu6+b7T0l6TtLTkn4pKe20dDNrmlIXoBqb0q8AZkbEXwI/otIb2szaQKkLEDU0pY+IhyPi4DNEFlPpmmhmbaDsBajXpvRdXAHc39SMzCyZsp+E7rEp/RsGSpcDM4EzDxmsqin94YcfniI/M+uDsheg3prSAyDpbOCzwJkRsedQwSJiPjAfYOrUqXH++ecnS3Thwoa7w3aro6Mjabwnnngiabzjjz8+abyJEycmjTd9+vSk8W6++eak8VK3eE15RRdg3bp1dY3fu3dvQ+sp+yFYj03p4fXngn2bSjP6zRlyNLMGlboARcQ+4GBT+lXA3Qeb0ku6oBj2NWAk8ENJT0pKuytiZk1T9kOwXpvSR8TZLU/KzJIo9R6QmfVvLkBmlo0LkJllU/pzQM2yfft27r333mTxjjnmmGSxgKRPbQWYOXNm0ng7duxIGi/1ZMqVK1cmjZe6p/Ytt9ySNN6cOXOSxqv3MnyjvAdkZtm4AJlZNi5AZpaNC5CZZeMCZGbZDNirYBHB/v37k8Xbs+eQc2AbkrrF6+rVq5PGGzlyZKnjbdu2LWm81C1o586dmzTeCy+8kDTehRdeWNf466+/vqH1eA/IzLJxATKzbEpfgGpoSv+nku4qvv+dpI7WZ2lmjSh1AaqxKf0VwLaImAh8E/hqa7M0s0aVugBRQ1P64v33itc/At4pqbtWrmZWMmUvQLU0pX99TNHAbAdwREuyM7M+Kftl+Fqa0tfTuP71pvTAnquvvjrtjMX8xgJ/yJ1EYt6m9nBSIwuVvQDV0pT+4JhOSYOB0cDW7oJVN6WXtDQi0k4Rz8zb1B766zY1slzZD8F6bUpfvP9Q8foi4KFI3dvBzJqi1HtAEbFP0sGm9IOABQeb0gNLI2Ih8F3gdklrqez5XJIvYzOrR6kLENTUlP5VYF4Doef3MbUy8ja1B29TQT5aMbNcyn4OyMz6MRcgM8vGBcjMsnEBMrNsXIDMLBsXIDPLxgXIzLJxATKzbFyAzCwbFyAzy8YFyMyyKf1k1GYZO3ZsdHR05E4jrY0b4a1vLecyrVyXt6nlli1b9oeIOLLe5QbsZNSZM2fG0qUN9VAqLwnq/fds1TKtXJe3qeUkLWukyZoPwcwsGxcgM8vGBcjMsslSgCTdJ2lML2MekfSmY0pJ0yTNqXp/vaRPNyNPM2uuLAUoIuZExPYGF58GzOl1lJmVXtMLkKTLJT0h6UlJ35Y0SNJ6SWOL7/9Z0mpJD0q6s8vezLxi2f+WNKt4MsaXgA8U8T5QjJtc7DE9L+nqZm+TmaXR1AIk6WTgA8DbI2IasB/426rvZwJzgenAhUDXQ67BEXEq8EngC8XjmT8P3BUR0yLirmLcXwDnUnmU8xckDWniZplZIs2+EfGdwAxgSfG49uHA5qrv3wH8NCJeAZD0X12W/3Hx5zKgo4f1/Dwi9gB7JG0GjqbywMI3qH4y6vjx4+vdFjNLrNmHYAK+V+ytTIuIkyLi+i7f92RP8ed+ei6We6peH3JsRMyPiJkRMfPII+u+adPMEmt2AfolcJGkowAkHS5pQtX3jwHnSxomaSTwnhpi7gRGpU/VzFqtqQUoIp4DPgf8QtLTwIPAMVXfL6HyaOWnqBxuLQV29BL2YSonnatPQptZG8o+F0zSyIjYJekw4FHgyohY3uz1ei5Yi5dp5bq8TS3X6FywMsyGny9pMjCMyvmiphcfMyuH7AUoIi7LnYOZ5ZG9AOWyZs0aZs+enTuN9BrZplYt08p1eZvagiej9hPr18P20RNYv77OBSdM6H1MivW0cl3epraR/SR0Lv3tJLSq7qhq5j9pq9bTynX1x21qNTckM7O24wJkZtm4AJlZNqUvQJLGSPr73HmYWXqlLkCSBgFjgLoKkCpKvW1mlrgASfqspDWSFh1sLlbdWlXSWEnri9cdkn4taXnx89fF57MlPSzpP4FngK8AJxRzv75WjPmMpCWSnpb0xap4qyTdDCwHxqXcNjNLL9mNiJJmAJdQaS42mEoRWNbDIpuBd0XEq5JOBO7kjw3JTgWmRMQ6SR3F62nFes4BTizGCFgo6QzgBeAk4CMR4UM2szaQ8k7oWcC9EbEbQNLCXsYPAf5d0sFOiZOqvnsiItYdYrlzip8VxfuRVArSC8CGiFh8qBW6IZlZuaSeitHdrVX7+OOh3rCqz/8B2ARMLb5/teq7l3tYh4B/jYhvv+HDyp5ST8sREfOB+VC5EbGnsWbWfCnPAT0KvF/ScEmjgPOLz9dTacsKcFHV+NHASxFxAPggMOgQcbs2IHsA+GjRwAxJxx5seGZm7SXZHlBELJd0F/AksAH4dfHV14G7JX0QeKhqkZuBeyTNo9JkrNu9l4jYIulxSSuB+yPiM0Wz+98WfaZ3AZdTOYwzszbStLlgkq4HdkXE15uygj7yXLByr6eV6+qP29RqngtmZm2naf2Aujz9wszsTbwHZGbZuCNiP9SqzWrlX5+3qX8asAWov/jVr35VvJpQ9dkGzjzzzKasrxWN+bxNA4c7IrY5VV9WqdLO/67epvbjq2Bm1nZcgMwsGxcgM8vGBcjMsmn7AiTJV/LM2lTdBajoPLha0nckrZR0h6Sziwmj/yPpVEkjJC0ouhaukPTeqmW764J4jKRHi66HKyXNKj7fVbXeiyTdVry+TdI3JD0MfPVQ6zOzcmt072EiMI9Kc68lwGXAO4ALgH8CngMeioiPShoDPCFpEYfugngZ8EBE/EvRB/qwGnKYBJwdEfsl3dDd+iKix/5AZpZXowVoXUQ8AyDpWeCXERGSngE6gOOACyR9uhg/DBgPbKT7LohLgAWShgA/iYgna8jhhxFxsAXHOYdY36rqBdwR0axcGi1Ae6peH6h6f6CIuR+YGxFrqhcqWnS8qQtiRDxa9HV+D3C7pK9FxPd5Y4fF6m6K8Mb+QepufV25I6JZuTTrJPQDwFUqbv+UNL34vNsuiJImAJsj4lbgu8ApxfhNkk4uHrHz/gbWZ2Yl1qwC9GUqTeefLjoZfrn4/GbgQ5IWUzn8OrgXMxt4UtIKYC5wY/H5dcDPqHRSfKmB9ZlZiXkuWJvrj3OMvE3tx3PBzKztuACZWTYuQGaWzYA9ByRpJ9DjZfs2NBb4Q+4kEvM2tYeTImJU78PeaCDPo1rTyEmzMpO01NtUfv11mxpZzodgZpaNC5CZZTOQC9D83Ak0gbepPXibCgP2JLSZ5TeQ94DMLLMBW4AkzZP0rKQDktr6ioSk8yStkbRW0nW580mhaDC3uZjb1y9IGifpYUmrit+9a3Ln1FeShkl6QtJTxTZ9sZ7lB2wBAlYCFwKP5k6kL4oGbt8C3g1MBi6VNDlvVkncBpyXO4nE9gHXRsTJwGnAx/vBv9Ue4KyImApMA86TdFqtCw/YAhQRq3rrH9QmTgXWRsTzEbEX+AHQ9i1pI+JRYGvuPFKKiJciYnnxeieVhnnH5s2qb6LiYOvkIcVPzSeWB2wB6keOBV6set9Jm/9SDwSSOoDpwO/yZtJ3kgZJepJKy+UHI6LmberXd0IXfaj/vJuvPhsRP211Pk3SXZ8HX9osMUkjgXuAT0bE/+XOp6+K1sjTin7s90qaEhE1nbvr1wUoIs7OnUMLdALjqt4fR6X3tpVQ0ff8HuCOiPhx7nxSiojtkh6hcu6upgLkQ7D2twQ4UdLxkoYClwALM+dk3ShaBn8XWBUR38idTwqSjiz2fJA0HDgbWF3r8gO2AEl6v6RO4HTg55IeyJ1TIyJiH/AJKn2xVwF3R8SzebPqO0l3Ar8FTpLUKemK3Dkl8HYqvdDPKp6B96SkObmT6qNjgIclPU3lf4YPRsTPal3Yd0KbWTYDdg/IzPJzATKzbFyAzCwbFyAzy8YFyMyycQEys2xcgMwsGxcgM8vGBcjMsnEBMrNsXIDMLBsXIDPL5v8BmESuzIhxT1UAAAAASUVORK5CYII=\n",
       "\"></div><div class=\"floating-box-fmp-1289820c-6531-4242-9dd5-76d289e5f68e\"><img src=\"data:image/png;base64,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\n",
       "\"></div>"
      ],
      "text/plain": [
       "<IPython.core.display.HTML object>"
      ]
     },
     "metadata": {},
     "output_type": "display_data"
    }
   ],
   "source": [
    "float_box = LibFMP.B.FloatingBox()\n",
    "\n",
    "fig, ax = plt.subplots(2, 1, sharex=True, \n",
    "                       gridspec_kw={'height_ratios': [2, 1]}, figsize=(4, 3))\n",
    "ax[0].imshow(matrix, cmap='gray_r', aspect='auto', \n",
    "             extent=[-1, 5, 0, 1], alpha=0.5)\n",
    "ax[0].set_xlim([-1, 3])\n",
    "LibFMP.B.plot_annotation_multiline(ann, ax=ax[1], label_keys=label_keys,\n",
    "                                   sort_labels=['measure', 'quarter', 'eighth'],\n",
    "                                   time_min=-1, time_max=3)\n",
    "plt.tight_layout()\n",
    "float_box.add_fig(fig)\n",
    "\n",
    "fig, ax = plt.subplots(1, 2, sharey=True, gridspec_kw={'width_ratios': [2, 10]}, \n",
    "                       figsize=(4, 3))\n",
    "ax[1].imshow(matrix, cmap='gray_r', aspect='auto', extent=[0, 1, -1, 3], alpha=0.5)\n",
    "ax[1].set_ylim([-1, 5])\n",
    "LibFMP.B.plot_annotation_multiline(ann, ax=ax[0], label_keys=label_keys, sort_labels=['measure', 'quarter', 'eighth'],\n",
    "                     direction='vertical', time_min=-1, time_max=3)\n",
    "plt.tight_layout()\n",
    "float_box.add_fig(fig)\n",
    "\n",
    "float_box.show()"
   ]
  },
  {
   "cell_type": "markdown",
   "metadata": {},
   "source": [
    "## Segment Annotations\n",
    "\n",
    "A second type of annotation we regularly encounter in the FMP notebooks are **segment annotations**, where each instance consists of two numerical values and a label. Typically, the two numerical values encode the start and end positions (given in seconds) of a time interval and the label assigns to this time interval a semantic category. For example, in [chord recognition](../C5/C5.html), the segments specify time intervals of a music recording and the labels specify musical [chords](../C5/C5S1_Chords.html) such as $\\mathrm{C}$-major or a $\\mathrm{E}^\\flat$-minor chord. Or, in [music structure analysis](../C4/C4.html), the segments encode [musical parts](../C4/C4S1_MusicStructureGeneral.html), which are typically labeled by capital letters $A,B,C, \\ldots$ in the order of their first occurrence. In the following code cell, we generate a toy example of such a segment annotation, which serves as our running example. "
   ]
  },
  {
   "cell_type": "code",
   "execution_count": 8,
   "metadata": {},
   "outputs": [
    {
     "name": "stdout",
     "output_type": "stream",
     "text": [
      "=== Dummy annotation ===\n",
      "[(0, 8, 'A'), (8, 16, 'A'), (16, 24, 'B'), (27, 33, 'C'), (33, 40, 'C'), (40, 48, 'B')]\n",
      "\n",
      "=== Dummy annotation in CSV format ===\n",
      "\"start\";\"end\";\"label\"\n",
      "0;8;\"A\"\n",
      "8;16;\"A\"\n",
      "16;24;\"B\"\n",
      "27;33;\"C\"\n",
      "33;40;\"C\"\n",
      "40;48;\"B\"\n",
      "\n",
      "=== Dummy annotation stored as DataFrame and rendered as HTML ===\n"
     ]
    },
    {
     "data": {
      "text/html": [
       "<table border=\"1\" class=\"dataframe\">\n",
       "  <thead>\n",
       "    <tr style=\"text-align: right;\">\n",
       "      <th></th>\n",
       "      <th>start</th>\n",
       "      <th>end</th>\n",
       "      <th>label</th>\n",
       "    </tr>\n",
       "  </thead>\n",
       "  <tbody>\n",
       "    <tr>\n",
       "      <th>0</th>\n",
       "      <td>0</td>\n",
       "      <td>8</td>\n",
       "      <td>A</td>\n",
       "    </tr>\n",
       "    <tr>\n",
       "      <th>1</th>\n",
       "      <td>8</td>\n",
       "      <td>16</td>\n",
       "      <td>A</td>\n",
       "    </tr>\n",
       "    <tr>\n",
       "      <th>2</th>\n",
       "      <td>16</td>\n",
       "      <td>24</td>\n",
       "      <td>B</td>\n",
       "    </tr>\n",
       "    <tr>\n",
       "      <th>3</th>\n",
       "      <td>27</td>\n",
       "      <td>33</td>\n",
       "      <td>C</td>\n",
       "    </tr>\n",
       "    <tr>\n",
       "      <th>4</th>\n",
       "      <td>33</td>\n",
       "      <td>40</td>\n",
       "      <td>C</td>\n",
       "    </tr>\n",
       "    <tr>\n",
       "      <th>5</th>\n",
       "      <td>40</td>\n",
       "      <td>48</td>\n",
       "      <td>B</td>\n",
       "    </tr>\n",
       "  </tbody>\n",
       "</table>"
      ],
      "text/plain": [
       "<IPython.core.display.HTML object>"
      ]
     },
     "metadata": {},
     "output_type": "display_data"
    }
   ],
   "source": [
    "ann = [(0, 8, 'A'), (8, 16, 'A'), (16, 24, 'B'), \n",
    "       (27, 33, 'C'), (33, 40, 'C'),  (40, 48, 'B')]\n",
    "print('=== Dummy annotation ===')\n",
    "print(ann)\n",
    "\n",
    "# Convert to DataFrame and CSV format (as used for the FMP notebooks)\n",
    "ann_df = pd.DataFrame(ann, columns=['start', 'end', 'label'])\n",
    "ann_csv = ann_df.to_csv(sep=';', index=False, quoting=2)\n",
    "print('\\n=== Dummy annotation in CSV format ===')\n",
    "print(ann_csv)\n",
    "print('=== Dummy annotation stored as DataFrame and rendered as HTML ===')\n",
    "ipd.display(ipd.HTML(ann_df.to_html()))\n",
    "\n",
    "# Store and load annotation file \n",
    "#fn_out = os.path.join('..', 'output', 'B', 'FMP_annotation_segment_dummy.csv')\n",
    "#ann_df.to_csv(fn_out, sep=';', index=False, quoting=2)\n",
    "#ann_df = pd.read_csv(fn_out, sep=';')\n",
    "#ann = [(start, end, label) for i, (start, end, label) in df.iterrows()]"
   ]
  },
  {
   "cell_type": "markdown",
   "metadata": {},
   "source": [
    "The function `LibFMP.B.plot_segments` allows for plotting segment annotations, where each label type is assigned to an individual color. In the following code cell, we visualize the segment annotations with default colors and colors that are defined via a dictionary."
   ]
  },
  {
   "cell_type": "code",
   "execution_count": 9,
   "metadata": {},
   "outputs": [
    {
     "data": {
      "image/png": "[encoded data removed]",
      "text/plain": [
       "<Figure size 432x72 with 1 Axes>"
      ]
     },
     "metadata": {
      "needs_background": "light"
     },
     "output_type": "display_data"
    },
    {
     "data": {
      "image/png": "[encoded data removed]",
      "text/plain": [
       "<Figure size 432x72 with 1 Axes>"
      ]
     },
     "metadata": {
      "needs_background": "light"
     },
     "output_type": "display_data"
    }
   ],
   "source": [
    "fig, ax = LibFMP.B.plot_segments(ann)\n",
    "\n",
    "color_ann = {'A': [1, 0, 0, 0.2], 'B': [0, 1, 0, 0.2], \n",
    "             'C': [0, 0, 1, 0.2], '': [1, 1, 1, 0.2]}\n",
    "\n",
    "fig, ax = LibFMP.B.plot_segments(ann, colors = color_ann)"
   ]
  },
  {
   "cell_type": "markdown",
   "metadata": {},
   "source": [
    "Next, we visualize the segment annotations horizontally aligned to a matrix, once in vertical direction and once in horizontal direction."
   ]
  },
  {
   "cell_type": "code",
   "execution_count": 10,
   "metadata": {},
   "outputs": [
    {
     "data": {
      "text/html": [
       "\n",
       "        <style>\n",
       "        .floating-box-fmp-836af1f9-44c9-4fb2-99a5-860e8a467a1d {\n",
       "        display: inline-block;\n",
       "        margin: 10px;\n",
       "        vertical-align: middle;\n",
       "        }\n",
       "        </style>\n",
       "        <div class=\"floating-box-fmp-836af1f9-44c9-4fb2-99a5-860e8a467a1d\"><img src=\"data:image/png;base64,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\n",
       "\"></div><div class=\"floating-box-fmp-836af1f9-44c9-4fb2-99a5-860e8a467a1d\"><img src=\"data:image/png;base64,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\n",
       "\"></div>"
      ],
      "text/plain": [
       "<IPython.core.display.HTML object>"
      ]
     },
     "metadata": {},
     "output_type": "display_data"
    }
   ],
   "source": [
    "float_box = LibFMP.B.FloatingBox()\n",
    "\n",
    "# Horizontal alignment\n",
    "fig, ax = plt.subplots(2, 1, sharex=True, \n",
    "                       gridspec_kw={'height_ratios': [4, 1]}, figsize=(3.5, 2.5))\n",
    "ax[0].imshow(matrix, cmap='gray_r', aspect='auto', extent=[-2, 50, 0, 1])\n",
    "LibFMP.B.plot_segments(ann, ax=ax[1], time_min=-2, time_max=50)\n",
    "plt.tight_layout()\n",
    "float_box.add_fig(fig)\n",
    "\n",
    "# Vertical alignment\n",
    "fig, ax = plt.subplots(1, 2, sharey=True, figsize=(3.5, 2.5),\n",
    "                       gridspec_kw={'width_ratios': [1, 10]})\n",
    "ax[1].imshow(matrix, cmap='gray_r', aspect='auto', extent=[0, 1, -2, 50])\n",
    "LibFMP.B.plot_segments(ann, ax=ax[0], direction='vertical', time_min=-2, time_max=50)\n",
    "plt.tight_layout()\n",
    "float_box.add_fig(fig)\n",
    "\n",
    "float_box.show()"
   ]
  },
  {
   "cell_type": "markdown",
   "metadata": {},
   "source": [
    "One may also apply the alignment in both directions."
   ]
  },
  {
   "cell_type": "code",
   "execution_count": 11,
   "metadata": {},
   "outputs": [
    {
     "data": {
      "image/png": "[encoded data removed]",
      "text/plain": [
       "<Figure size 360x216 with 4 Axes>"
      ]
     },
     "metadata": {
      "needs_background": "light"
     },
     "output_type": "display_data"
    }
   ],
   "source": [
    "fig, ax = plt.subplots(2, 2,  figsize=(5, 3), sharex='col', sharey='row',\n",
    "                       gridspec_kw={'height_ratios': [6, 1], 'width_ratios': [1, 12]})\n",
    "ax[0, 1].imshow(matrix, cmap='gray_r', aspect='auto', extent=[-2, 50, -2, 50])\n",
    "LibFMP.B.plot_segments(ann, ax=ax[1, 1], time_min=-2, time_max=50)\n",
    "LibFMP.B.plot_segments(ann, ax=ax[0, 0], direction='vertical', time_min=-2, time_max=50)\n",
    "ax[1, 0].axis('off')\n",
    "plt.tight_layout()"
   ]
  },
  {
   "cell_type": "markdown",
   "metadata": {},
   "source": [
    "The function `LibFMP.B.plot_segments_overlay` is provided for overlaying segment annotations with image plots. Among others, one can set a parameter (`alpha`) for controlling the transparency of the annotations' visualization and parameters (`print_labels`, `label_ticks`) for removing and placing labels. The next code cell shows some settings."
   ]
  },
  {
   "cell_type": "code",
   "execution_count": 12,
   "metadata": {},
   "outputs": [
    {
     "data": {
      "image/png": "[encoded data removed]",
      "text/plain": [
       "<Figure size 576x180 with 3 Axes>"
      ]
     },
     "metadata": {
      "needs_background": "light"
     },
     "output_type": "display_data"
    }
   ],
   "source": [
    "fig, ax = plt.subplots(1, 3, figsize=(8, 2.5))\n",
    "ax[0].imshow(matrix, cmap='gray_r', aspect='auto', extent=[-2, 50, 0, 1])\n",
    "LibFMP.B.plot_segments_overlay(ann, ax=ax[0], time_min=-2, time_max=50, alpha=0.8)\n",
    "\n",
    "ax[1].imshow(matrix, cmap='gray_r', aspect='auto', extent=[-2, 50, 0, 1])\n",
    "LibFMP.B.plot_segments_overlay(ann, ax=ax[1], time_min=-2, time_max=50,\n",
    "                               print_labels=False, alpha=0.3)\n",
    "\n",
    "ax[2].imshow(matrix, cmap='gray_r', aspect='auto', extent=[-2, 50, 0, 1])\n",
    "LibFMP.B.plot_segments_overlay(ann, ax=ax[2], time_min=-2, time_max=50,\n",
    "                               label_ticks=True, alpha=0.5)\n",
    "plt.tight_layout()"
   ]
  },
  {
   "cell_type": "markdown",
   "metadata": {},
   "source": [
    "One may also overlay several horizontally and vertically aligned annotations. This is demonstrated by the next example."
   ]
  },
  {
   "cell_type": "code",
   "execution_count": 13,
   "metadata": {},
   "outputs": [
    {
     "data": {
      "image/png": "[encoded data removed]",
      "text/plain": [
       "<Figure size 432x288 with 4 Axes>"
      ]
     },
     "metadata": {
      "needs_background": "light"
     },
     "output_type": "display_data"
    }
   ],
   "source": [
    "ann_v = [(0.1, 0.2, 'X'), (0.2, 0.38, 'Y'), (0.4, 0.5, 'X'), (0.6, 0.7, 'X'), (0.7, 0.88, 'Y')]\n",
    "color_ann_v = {'X': [1, 0, 0, 1], 'Y': [1, 1, 0, 1], '': [1, 1, 1, 1]}\n",
    "\n",
    "fig, ax = plt.subplots(2, 2, figsize=(6, 4),\n",
    "                       gridspec_kw={'height_ratios': [8, 1], 'width_ratios': [1, 12]})\n",
    "ax[0,1].imshow(matrix, cmap='gray_r', aspect='auto', extent=[-10, 60, 0, 1])\n",
    "LibFMP.B.plot_segments_overlay(ann, ax=ax[0, 1], time_min=-10, time_max=60, \n",
    "                               label_ticks=True, print_labels=False, alpha=0.6)\n",
    "LibFMP.B.plot_segments_overlay(ann_v, colors=color_ann_v, ax=ax[0, 1], time_min=0, time_max=1,  \n",
    "                               direction='vertical', label_ticks=True, \n",
    "                               print_labels=False, alpha=0.4)\n",
    "LibFMP.B.plot_segments(ann, ax=ax[1, 1], time_min=-10, time_max=60)\n",
    "LibFMP.B.plot_segments(ann_v, ax=ax[0, 0], colors=color_ann_v, \n",
    "                       direction='vertical', time_min=0, time_max=1)\n",
    "ax[1,0].axis('off');"
   ]
  },
  {
   "cell_type": "markdown",
   "metadata": {},
   "source": [
    "<div class=\"alert\" style=\"background-color:#F5F5F5; border-color:#C8C8C8\">\n",
    "<strong>Acknowledgment:</strong> This notebook was created by <a href=\"https://www.audiolabs-erlangen.de/fau/assistant/zalkow\">Frank Zalkow</a> and <a href=\"https://www.audiolabs-erlangen.de/fau/professor/mueller\">Meinard Müller</a>.\n",
    "</div>"
   ]
  },
  {
   "cell_type": "markdown",
   "metadata": {},
   "source": [
    "<table style=\"border:none\">\n",
    "<tr style=\"border:none\">\n",
    "    <td style=\"min-width:50px; border:none\" bgcolor=\"white\"><a href=\"../C0/C0.html\"><img src=\"../data/C0_nav.png\" style=\"height:50px\" alt=\"C0\"></a></td>\n",
    "    <td style=\"min-width:50px; border:none\" bgcolor=\"white\"><a href=\"../C1/C1.html\"><img src=\"../data/C1_nav.png\" style=\"height:50px\" alt=\"C1\"></a></td>\n",
    "    <td style=\"min-width:50px; border:none\" bgcolor=\"white\"><a href=\"../C2/C2.html\"><img src=\"../data/C2_nav.png\" style=\"height:50px\" alt=\"C2\"></a></td>\n",
    "    <td style=\"min-width:50px; border:none\" bgcolor=\"white\"><a href=\"../C3/C3.html\"><img src=\"../data/C3_nav.png\" style=\"height:50px\" alt=\"C3\"></a></td>\n",
    "    <td style=\"min-width:50px; border:none\" bgcolor=\"white\"><a href=\"../C4/C4.html\"><img src=\"../data/C4_nav.png\" style=\"height:50px\" alt=\"C4\"></a></td>\n",
    "    <td style=\"min-width:50px; border:none\" bgcolor=\"white\"><a href=\"../C5/C5.html\"><img src=\"../data/C5_nav.png\" style=\"height:50px\" alt=\"C5\"></a></td>\n",
    "    <td style=\"min-width:50px; border:none\" bgcolor=\"white\"><a href=\"../C6/C6.html\"><img src=\"../data/C6_nav.png\" style=\"height:50px\" alt=\"C6\"></a></td>\n",
    "    <td style=\"min-width:50px; border:none\" bgcolor=\"white\"><a href=\"../C7/C7.html\"><img src=\"../data/C7_nav.png\" style=\"height:50px\" alt=\"C7\"></a></td>\n",
    "    <td style=\"min-width:50px; border:none\" bgcolor=\"white\"><a href=\"../C8/C8.html\"><img src=\"../data/C8_nav.png\" style=\"height:50px\" alt=\"C8\"></a></td>\n",
    "</tr>\n",
    "</table>"
   ]
  }
 ],
 "metadata": {
  "kernelspec": {
   "display_name": "Python 3",
   "language": "python",
   "name": "python3"
  },
  "language_info": {
   "codemirror_mode": {
    "name": "ipython",
    "version": 3
   },
   "file_extension": ".py",
   "mimetype": "text/x-python",
   "name": "python",
   "nbconvert_exporter": "python",
   "pygments_lexer": "ipython3",
   "version": "3.7.7"
  }
 },
 "nbformat": 4,
 "nbformat_minor": 2
}
